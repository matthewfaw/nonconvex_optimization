{
 "cells": [
  {
   "cell_type": "code",
   "execution_count": 1,
   "metadata": {
    "collapsed": true,
    "pycharm": {
     "is_executing": false
    }
   },
   "outputs": [],
   "source": [
    "%load_ext autoreload\n",
    "%autoreload 2\n",
    "\n",
    "from optimizers.perturbed_gd import PerturbedGD\n",
    "from optimizers.cubic_reg import StochasticCubicRegularizedNewton\n",
    "from models.nn import Net, SimpleNet\n",
    "\n",
    "import torch\n",
    "from torch.utils.data import DataLoader\n",
    "from torchvision.datasets import MNIST\n",
    "from torchvision.transforms import Compose, ToTensor, Normalize\n",
    "from torch.nn import MSELoss\n",
    "import torch.nn.functional as F\n",
    "import torch.autograd as autograd\n",
    "from copy import deepcopy\n",
    "\n",
    "from matplotlib import pyplot as plt\n"
   ]
  },
  {
   "cell_type": "markdown",
   "source": [
    "## Load the dataset"
   ],
   "metadata": {
    "collapsed": false
   }
  },
  {
   "cell_type": "code",
   "execution_count": 2,
   "outputs": [
    {
     "name": "stdout",
     "text": [
      "Train dataset size: 60000\nTest dataset size: 10000\n"
     ],
     "output_type": "stream"
    }
   ],
   "source": [
    "grad_batch_size = 64\n",
    "hess_batch_size = 64\n",
    "\n",
    "dataset_train = MNIST('data/',\n",
    "                      train=True,\n",
    "                      download=True,\n",
    "                      transform=Compose([\n",
    "                            ToTensor(),\n",
    "                            Normalize((0.1307,), (0.3081,))\n",
    "                            ]))\n",
    "dataset_test = MNIST('data/',\n",
    "          train=False,\n",
    "          download=True,\n",
    "          transform=Compose([ToTensor(),\n",
    "                             Normalize((0.1307,), (0.3081,))\n",
    "                             ]))\n",
    "\n",
    "batch_size_test = len(dataset_test)\n",
    "\n",
    "print(\"Train dataset size:\",len(dataset_train))\n",
    "print(\"Test dataset size:\",len(dataset_test))\n",
    "train_loader_grad = torch.utils.data.DataLoader(\n",
    "    dataset_train,\n",
    "    batch_size=grad_batch_size, shuffle=True)\n",
    "\n",
    "train_loader_hess = torch.utils.data.DataLoader(\n",
    "    dataset_train,\n",
    "    batch_size=hess_batch_size, shuffle=True)\n",
    "\n",
    "test_loader = torch.utils.data.DataLoader(\n",
    "    dataset_test,\n",
    "  batch_size=batch_size_test, shuffle=True)"
   ],
   "metadata": {
    "collapsed": false,
    "pycharm": {
     "name": "#%%\n",
     "is_executing": false
    }
   }
  },
  {
   "cell_type": "markdown",
   "source": [
    "## Perturbed Gradient Descent"
   ],
   "metadata": {
    "collapsed": false
   }
  },
  {
   "cell_type": "code",
   "execution_count": 7,
   "outputs": [
    {
     "name": "stdout",
     "text": [
      "At batch: 0\n",
      "At batch: 1\n",
      "At batch: 2\n",
      "At batch: 3\n",
      "At batch: 4\n",
      "At batch: 5\n",
      "At batch: 6\n",
      "At batch: 7\n",
      "At batch: 8\n",
      "At batch: 9\n",
      "At batch: 10\n",
      "At batch: 11\n",
      "At batch: 12\n",
      "At batch: 13\n",
      "At batch: 14\n",
      "At batch: 15\n",
      "At batch: 16\n",
      "At batch: 17\n",
      "At batch: 18\n",
      "At batch: 19\n",
      "At batch: 20\n",
      "At batch: 21\n",
      "At batch: 22\n",
      "At batch: 23\n",
      "At batch: 24\n",
      "At batch: 25\n",
      "At batch: 26\n",
      "At batch: 27\n",
      "At batch: 28\n",
      "At batch: 29\n",
      "At batch: 30\n",
      "At batch: 31\n",
      "At batch: 32\n",
      "At batch: 33\n",
      "At batch: 34\n",
      "At batch: 35\n",
      "At batch: 36\n",
      "At batch: 37\n",
      "At batch: 38\n",
      "At batch: 39\n"
     ],
     "output_type": "stream"
    }
   ],
   "source": [
    "\n",
    "model_pgd = Net()\n",
    "loss_fn_pgd = F.nll_loss\n",
    "\n",
    "optimizer_pgd = PerturbedGD(model_pgd.parameters(),\n",
    "                        l=100,\n",
    "                        rho=10,\n",
    "                        epsilon=1e-4,\n",
    "                        c=.5,\n",
    "                        delta=.1,\n",
    "                        delta_f=10,\n",
    "                        d=2)\n",
    "iter_grad = iter(train_loader_grad)\n",
    "test_data, test_labels = next(iter(test_loader))\n",
    "batch_idx = 0\n",
    "losses_pgd = []\n",
    "while True:\n",
    "    if batch_idx == 40:\n",
    "        break\n",
    "        \n",
    "    print(\"At batch:\",batch_idx)\n",
    "    losses_pgd.append(loss_fn_pgd(model_pgd(test_data), test_labels))\n",
    "    if optimizer_pgd._is_done:\n",
    "        print(\"Optimizer has hit early stopping condition\")\n",
    "        break\n",
    "    optimizer_pgd.zero_grad()\n",
    "    \n",
    "    data_for_grad = next(iter_grad, None)\n",
    "    \n",
    "    if data_for_grad is None: \n",
    "        print(\"Exhausted training data -- finished optimization\")\n",
    "        break\n",
    "    features_g, labels_g = data_for_grad\n",
    "    \n",
    "    loss_g = loss_fn_pgd(model_pgd(features_g), labels_g)\n",
    "    loss_g.backward()\n",
    "    \n",
    "    optimizer_pgd.step()\n",
    "    \n",
    "    batch_idx += 1\n"
   ],
   "metadata": {
    "collapsed": false,
    "pycharm": {
     "name": "#%%\n",
     "is_executing": false
    }
   }
  },
  {
   "cell_type": "markdown",
   "source": [
    "## Stochastic Cubic Regularized Newton's method"
   ],
   "metadata": {
    "collapsed": false
   }
  },
  {
   "cell_type": "code",
   "execution_count": 4,
   "outputs": [
    {
     "name": "stdout",
     "text": [
      "Train dataset size: 60000\nTest dataset size: 10000\n",
      "At batch: 0\n",
      "At batch: 1\n",
      "At batch: 2\n",
      "At batch: 3\n",
      "At batch: 4\n",
      "At batch: 5\n",
      "At batch: 6\n",
      "At batch: 7\n",
      "At batch: 8\n",
      "At batch: 9\n",
      "At batch: 10\n",
      "At batch: 11\n",
      "At batch: 12\n",
      "At batch: 13\n",
      "At batch: 14\n",
      "At batch: 15\n",
      "At batch: 16\n",
      "At batch: 17\n",
      "At batch: 18\n",
      "At batch: 19\n",
      "At batch: 20\n",
      "At batch: 21\n",
      "At batch: 22\n",
      "At batch: 23\n",
      "At batch: 24\n"
     ],
     "output_type": "stream"
    },
    {
     "traceback": [
      "\u001b[0;31m---------------------------------------------------------------------------\u001b[0m",
      "\u001b[0;31mKeyboardInterrupt\u001b[0m                         Traceback (most recent call last)",
      "\u001b[0;32m<ipython-input-4-66eb5d9a8439>\u001b[0m in \u001b[0;36m<module>\u001b[0;34m\u001b[0m\n\u001b[1;32m     72\u001b[0m     \u001b[0mloss_g\u001b[0m\u001b[0;34m.\u001b[0m\u001b[0mbackward\u001b[0m\u001b[0;34m(\u001b[0m\u001b[0;34m)\u001b[0m\u001b[0;34m\u001b[0m\u001b[0;34m\u001b[0m\u001b[0m\n\u001b[1;32m     73\u001b[0m \u001b[0;34m\u001b[0m\u001b[0m\n\u001b[0;32m---> 74\u001b[0;31m     \u001b[0moptimizer\u001b[0m\u001b[0;34m.\u001b[0m\u001b[0mstep\u001b[0m\u001b[0;34m(\u001b[0m\u001b[0mflattened_grad_h\u001b[0m\u001b[0;34m)\u001b[0m\u001b[0;34m\u001b[0m\u001b[0;34m\u001b[0m\u001b[0m\n\u001b[0m\u001b[1;32m     75\u001b[0m \u001b[0;34m\u001b[0m\u001b[0m\n\u001b[1;32m     76\u001b[0m     \u001b[0mbatch_idx\u001b[0m \u001b[0;34m+=\u001b[0m \u001b[0;36m1\u001b[0m\u001b[0;34m\u001b[0m\u001b[0;34m\u001b[0m\u001b[0m\n",
      "\u001b[0;32m~/Dropbox/grad_school/year1/lso_II/final_project/optimizers/cubic_reg.py\u001b[0m in \u001b[0;36mstep\u001b[0;34m(self, flat_grad_for_hess_product)\u001b[0m\n\u001b[1;32m     68\u001b[0m         \u001b[0mflat_grad\u001b[0m \u001b[0;34m=\u001b[0m \u001b[0mdeepcopy\u001b[0m\u001b[0;34m(\u001b[0m\u001b[0mself\u001b[0m\u001b[0;34m.\u001b[0m\u001b[0m_gather_flat_grad\u001b[0m\u001b[0;34m(\u001b[0m\u001b[0mself\u001b[0m\u001b[0;34m.\u001b[0m\u001b[0m_params\u001b[0m\u001b[0;34m)\u001b[0m\u001b[0;34m)\u001b[0m\u001b[0;34m\u001b[0m\u001b[0;34m\u001b[0m\u001b[0m\n\u001b[1;32m     69\u001b[0m \u001b[0;34m\u001b[0m\u001b[0m\n\u001b[0;32m---> 70\u001b[0;31m         \u001b[0mdelta\u001b[0m\u001b[0;34m,\u001b[0m \u001b[0mdelta_m\u001b[0m \u001b[0;34m=\u001b[0m \u001b[0mself\u001b[0m\u001b[0;34m.\u001b[0m\u001b[0m_cubic_subsolver\u001b[0m\u001b[0;34m(\u001b[0m\u001b[0mflat_grad\u001b[0m\u001b[0;34m,\u001b[0m \u001b[0mflat_grad_for_hess_product\u001b[0m\u001b[0;34m,\u001b[0m \u001b[0mgroup\u001b[0m\u001b[0;34m)\u001b[0m\u001b[0;34m\u001b[0m\u001b[0;34m\u001b[0m\u001b[0m\n\u001b[0m\u001b[1;32m     71\u001b[0m \u001b[0;34m\u001b[0m\u001b[0m\n\u001b[1;32m     72\u001b[0m         \u001b[0mself\u001b[0m\u001b[0;34m.\u001b[0m\u001b[0m_add_grad\u001b[0m\u001b[0;34m(\u001b[0m\u001b[0;36m1\u001b[0m\u001b[0;34m,\u001b[0m \u001b[0mdelta\u001b[0m\u001b[0;34m)\u001b[0m\u001b[0;34m\u001b[0m\u001b[0;34m\u001b[0m\u001b[0m\n",
      "\u001b[0;32m~/Dropbox/grad_school/year1/lso_II/final_project/optimizers/cubic_reg.py\u001b[0m in \u001b[0;36m_cubic_subsolver\u001b[0;34m(self, flat_grad, flat_grad_for_hess_product, group)\u001b[0m\n\u001b[1;32m    110\u001b[0m             \u001b[0mg_tilde\u001b[0m \u001b[0;34m=\u001b[0m \u001b[0mflat_grad\u001b[0m\u001b[0;34m.\u001b[0m\u001b[0madd\u001b[0m\u001b[0;34m(\u001b[0m\u001b[0msigma\u001b[0m\u001b[0;34m,\u001b[0m \u001b[0mxi\u001b[0m\u001b[0;34m)\u001b[0m\u001b[0;34m\u001b[0m\u001b[0;34m\u001b[0m\u001b[0m\n\u001b[1;32m    111\u001b[0m             \u001b[0;32mfor\u001b[0m \u001b[0mt\u001b[0m \u001b[0;32min\u001b[0m \u001b[0mrange\u001b[0m\u001b[0;34m(\u001b[0m\u001b[0mT_eps\u001b[0m\u001b[0;34m)\u001b[0m\u001b[0;34m:\u001b[0m\u001b[0;34m\u001b[0m\u001b[0;34m\u001b[0m\u001b[0m\n\u001b[0;32m--> 112\u001b[0;31m                 \u001b[0mhess_del_prod\u001b[0m \u001b[0;34m=\u001b[0m \u001b[0mself\u001b[0m\u001b[0;34m.\u001b[0m\u001b[0m_get_hess_vec_prod\u001b[0m\u001b[0;34m(\u001b[0m\u001b[0mflat_grad_for_hess_product\u001b[0m\u001b[0;34m,\u001b[0m \u001b[0mdelta\u001b[0m\u001b[0;34m)\u001b[0m\u001b[0;34m\u001b[0m\u001b[0;34m\u001b[0m\u001b[0m\n\u001b[0m\u001b[1;32m    113\u001b[0m \u001b[0;34m\u001b[0m\u001b[0m\n\u001b[1;32m    114\u001b[0m                 \u001b[0mdelta\u001b[0m\u001b[0;34m.\u001b[0m\u001b[0madd_\u001b[0m\u001b[0;34m(\u001b[0m\u001b[0;34m-\u001b[0m\u001b[0meta\u001b[0m\u001b[0;34m,\u001b[0m \u001b[0mg_tilde\u001b[0m \u001b[0;34m+\u001b[0m \u001b[0mhess_del_prod\u001b[0m \u001b[0;34m+\u001b[0m \u001b[0mrho\u001b[0m\u001b[0;34m/\u001b[0m\u001b[0;36m2\u001b[0m \u001b[0;34m*\u001b[0m \u001b[0mtorch\u001b[0m\u001b[0;34m.\u001b[0m\u001b[0mnorm\u001b[0m\u001b[0;34m(\u001b[0m\u001b[0mdelta\u001b[0m\u001b[0;34m,\u001b[0m \u001b[0mp\u001b[0m\u001b[0;34m=\u001b[0m\u001b[0;36m2\u001b[0m\u001b[0;34m)\u001b[0m \u001b[0;34m*\u001b[0m \u001b[0mdelta\u001b[0m\u001b[0;34m)\u001b[0m\u001b[0;34m\u001b[0m\u001b[0;34m\u001b[0m\u001b[0m\n",
      "\u001b[0;32m~/Dropbox/grad_school/year1/lso_II/final_project/optimizers/cubic_reg.py\u001b[0m in \u001b[0;36m_get_hess_vec_prod\u001b[0;34m(self, flat_grad_for_hess_prod, v)\u001b[0m\n\u001b[1;32m    145\u001b[0m             \u001b[0mflat_grad_for_hess_prod\u001b[0m\u001b[0;34m.\u001b[0m\u001b[0mzero_\u001b[0m\u001b[0;34m(\u001b[0m\u001b[0;34m)\u001b[0m\u001b[0;34m\u001b[0m\u001b[0;34m\u001b[0m\u001b[0m\n\u001b[1;32m    146\u001b[0m         \u001b[0mpre_hess_vec_prod\u001b[0m \u001b[0;34m=\u001b[0m \u001b[0mflat_grad_for_hess_prod\u001b[0m \u001b[0;34m@\u001b[0m \u001b[0mv\u001b[0m\u001b[0;34m\u001b[0m\u001b[0;34m\u001b[0m\u001b[0m\n\u001b[0;32m--> 147\u001b[0;31m         \u001b[0mpre_hess_vec_prod\u001b[0m\u001b[0;34m.\u001b[0m\u001b[0mbackward\u001b[0m\u001b[0;34m(\u001b[0m\u001b[0mretain_graph\u001b[0m\u001b[0;34m=\u001b[0m\u001b[0;32mTrue\u001b[0m\u001b[0;34m)\u001b[0m\u001b[0;34m\u001b[0m\u001b[0;34m\u001b[0m\u001b[0m\n\u001b[0m\u001b[1;32m    148\u001b[0m \u001b[0;34m\u001b[0m\u001b[0m\n\u001b[1;32m    149\u001b[0m         \u001b[0;32mreturn\u001b[0m \u001b[0mdeepcopy\u001b[0m\u001b[0;34m(\u001b[0m\u001b[0mself\u001b[0m\u001b[0;34m.\u001b[0m\u001b[0m_gather_flat_grad\u001b[0m\u001b[0;34m(\u001b[0m\u001b[0mself\u001b[0m\u001b[0;34m.\u001b[0m\u001b[0m_params\u001b[0m\u001b[0;34m)\u001b[0m\u001b[0;34m)\u001b[0m\u001b[0;34m\u001b[0m\u001b[0;34m\u001b[0m\u001b[0m\n",
      "\u001b[0;32m/anaconda3/lib/python3.6/site-packages/torch/tensor.py\u001b[0m in \u001b[0;36mbackward\u001b[0;34m(self, gradient, retain_graph, create_graph)\u001b[0m\n\u001b[1;32m    105\u001b[0m                 \u001b[0mproducts\u001b[0m\u001b[0;34m.\u001b[0m \u001b[0mDefaults\u001b[0m \u001b[0mto\u001b[0m\u001b[0;31m \u001b[0m\u001b[0;31m`\u001b[0m\u001b[0;31m`\u001b[0m\u001b[0;32mFalse\u001b[0m\u001b[0;31m`\u001b[0m\u001b[0;31m`\u001b[0m\u001b[0;34m.\u001b[0m\u001b[0;34m\u001b[0m\u001b[0;34m\u001b[0m\u001b[0m\n\u001b[1;32m    106\u001b[0m         \"\"\"\n\u001b[0;32m--> 107\u001b[0;31m         \u001b[0mtorch\u001b[0m\u001b[0;34m.\u001b[0m\u001b[0mautograd\u001b[0m\u001b[0;34m.\u001b[0m\u001b[0mbackward\u001b[0m\u001b[0;34m(\u001b[0m\u001b[0mself\u001b[0m\u001b[0;34m,\u001b[0m \u001b[0mgradient\u001b[0m\u001b[0;34m,\u001b[0m \u001b[0mretain_graph\u001b[0m\u001b[0;34m,\u001b[0m \u001b[0mcreate_graph\u001b[0m\u001b[0;34m)\u001b[0m\u001b[0;34m\u001b[0m\u001b[0;34m\u001b[0m\u001b[0m\n\u001b[0m\u001b[1;32m    108\u001b[0m \u001b[0;34m\u001b[0m\u001b[0m\n\u001b[1;32m    109\u001b[0m     \u001b[0;32mdef\u001b[0m \u001b[0mregister_hook\u001b[0m\u001b[0;34m(\u001b[0m\u001b[0mself\u001b[0m\u001b[0;34m,\u001b[0m \u001b[0mhook\u001b[0m\u001b[0;34m)\u001b[0m\u001b[0;34m:\u001b[0m\u001b[0;34m\u001b[0m\u001b[0;34m\u001b[0m\u001b[0m\n",
      "\u001b[0;32m/anaconda3/lib/python3.6/site-packages/torch/autograd/__init__.py\u001b[0m in \u001b[0;36mbackward\u001b[0;34m(tensors, grad_tensors, retain_graph, create_graph, grad_variables)\u001b[0m\n\u001b[1;32m     91\u001b[0m     Variable._execution_engine.run_backward(\n\u001b[1;32m     92\u001b[0m         \u001b[0mtensors\u001b[0m\u001b[0;34m,\u001b[0m \u001b[0mgrad_tensors\u001b[0m\u001b[0;34m,\u001b[0m \u001b[0mretain_graph\u001b[0m\u001b[0;34m,\u001b[0m \u001b[0mcreate_graph\u001b[0m\u001b[0;34m,\u001b[0m\u001b[0;34m\u001b[0m\u001b[0;34m\u001b[0m\u001b[0m\n\u001b[0;32m---> 93\u001b[0;31m         allow_unreachable=True)  # allow_unreachable flag\n\u001b[0m\u001b[1;32m     94\u001b[0m \u001b[0;34m\u001b[0m\u001b[0m\n\u001b[1;32m     95\u001b[0m \u001b[0;34m\u001b[0m\u001b[0m\n",
      "\u001b[0;31mKeyboardInterrupt\u001b[0m: "
     ],
     "ename": "KeyboardInterrupt",
     "evalue": "",
     "output_type": "error"
    }
   ],
   "source": [
    "\n",
    "model_scrn = Net()\n",
    "loss_fn_scrn = F.nll_loss\n",
    "\n",
    "optimizer = StochasticCubicRegularizedNewton(model_scrn.parameters(),\n",
    "                                             l=100,\n",
    "                                             rho=100,\n",
    "                                             epsilon=1e-4,\n",
    "                                             c_prime=1)\n",
    "\n",
    "\n",
    "iter_grad = iter(train_loader_grad)\n",
    "iter_hess = iter(train_loader_hess)\n",
    "test_data, test_labels = next(iter(test_loader))\n",
    "batch_idx = 0\n",
    "losses_scrn = []\n",
    "while True:\n",
    "    print(\"At batch:\",batch_idx)\n",
    "    losses_scrn.append(loss_fn_scrn(model_scrn(test_data), test_labels))\n",
    "    if optimizer._is_done:\n",
    "        break\n",
    "    optimizer.zero_grad()\n",
    "    \n",
    "    data_for_grad = next(iter_grad, None)\n",
    "    data_for_hess = next(iter_hess, None)\n",
    "    \n",
    "    if data_for_grad is None or data_for_hess is None:\n",
    "        print(\"Exhausted training data -- finished optimization\")\n",
    "        break\n",
    "    features_g, labels_g = data_for_grad\n",
    "    features_h, labels_h = data_for_hess\n",
    "    \n",
    "    loss_h = loss_fn_scrn(model_scrn(features_h), labels_h)\n",
    "    \n",
    "    flattened_grad_h = []\n",
    "    for p in model_scrn.parameters():\n",
    "        flattened_grad_h.append(autograd.grad(loss_h, p, create_graph=True)[0].view(-1))\n",
    "    flattened_grad_h = torch.cat(flattened_grad_h)\n",
    "    \n",
    "    loss_g = loss_fn_scrn(model_scrn(features_g), labels_g)\n",
    "    loss_g.backward()\n",
    "    \n",
    "    optimizer.step(flattened_grad_h)\n",
    "    \n",
    "    batch_idx += 1\n",
    "    "
   ],
   "metadata": {
    "collapsed": false,
    "pycharm": {
     "name": "#%%\n",
     "is_executing": false
    }
   }
  },
  {
   "cell_type": "code",
   "execution_count": 8,
   "outputs": [
    {
     "data": {
      "text/plain": "Text(0.5, 1.0, 'Batch size for gradient=64 and for hessian=64')"
     },
     "metadata": {},
     "output_type": "execute_result",
     "execution_count": 8
    },
    {
     "data": {
      "text/plain": "<Figure size 432x288 with 1 Axes>",
      "image/png": "[encoded data removed]"
     },
     "metadata": {
      "needs_background": "light"
     },
     "output_type": "display_data"
    }
   ],
   "source": [
    "\n",
    "# plt.plot(range(len(losses_scrn)), losses_scrn, 'ks-', label='StochasticCubic')\n",
    "plt.plot(range(len(losses_pgd)), losses_pgd, 'ks-', label='PertGD')\n",
    "plt.legend(loc='center left', bbox_to_anchor=(1, 0.5))\n",
    "plt.xlabel(\"Outer loop iteration number\")\n",
    "plt.ylabel(\"Test Loss\")\n",
    "plt.title(\"Batch size for gradient=%d and for hessian=%d\"%(grad_batch_size, hess_batch_size))\n",
    "\n"
   ],
   "metadata": {
    "collapsed": false,
    "pycharm": {
     "name": "#%%\n",
     "is_executing": false
    }
   }
  }
 ],
 "metadata": {
  "language_info": {
   "codemirror_mode": {
    "name": "ipython",
    "version": 2
   },
   "file_extension": ".py",
   "mimetype": "text/x-python",
   "name": "python",
   "nbconvert_exporter": "python",
   "pygments_lexer": "ipython2",
   "version": "2.7.6"
  },
  "kernelspec": {
   "name": "python3",
   "language": "python",
   "display_name": "Python 3"
  },
  "pycharm": {
   "stem_cell": {
    "cell_type": "raw",
    "source": [],
    "metadata": {
     "collapsed": false
    }
   }
  }
 },
 "nbformat": 4,
 "nbformat_minor": 0
}